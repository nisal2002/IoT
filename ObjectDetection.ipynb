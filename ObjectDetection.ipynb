{
 "cells": [
  {
   "cell_type": "code",
   "execution_count": 8,
   "id": "90d60496-ddba-45d8-85f8-796664b4df72",
   "metadata": {},
   "outputs": [],
   "source": [
    "import cv2\n",
    "from ultralytics import YOLO\n",
    "import matplotlib.pyplot as plt\n",
    "import matplotlib.image as mpimg\n",
    "import os\n",
    "from ultralytics import solutions\n",
    "import numpy as np"
   ]
  },
  {
   "cell_type": "code",
   "execution_count": null,
   "id": "b68815b0-c67b-4c85-800a-baf204ea91ed",
   "metadata": {},
   "outputs": [],
   "source": [
    "input_image_path = r\"input_image\\train1.jpg\"\n",
    "img = mpimg.imread(input_image_path)\n",
    "plt.imshow(img)\n",
    "plt.axis('off')  # Turn off axis\n",
    "plt.show()"
   ]
  },
  {
   "cell_type": "markdown",
   "id": "165bf0b8",
   "metadata": {},
   "source": [
    "# Function to detect humans "
   ]
  },
  {
   "cell_type": "code",
   "execution_count": null,
   "id": "81dac3fc",
   "metadata": {},
   "outputs": [],
   "source": [
    "def detect_humans(image):\n",
    "    # img=np.ascontiguousarray(image)\n",
    "    img = cv2.imread(\"input_image\\\\test2.jpg\")\n",
    "    counter = solutions.ObjectCounter(model =\"yolov8n.pt\",classes=[0])\n",
    "    count = counter(img)\n",
    "    human_count = count[0].boxes.cls.cpu().numpy()\n",
    "    print(human_count)\n"
   ]
  },
  {
   "cell_type": "markdown",
   "id": "54a04ce6-8bf6-4c8d-8b91-ca3404b635f4",
   "metadata": {},
   "source": [
    "# Function to detect TRAINS "
   ]
  },
  {
   "cell_type": "code",
   "execution_count": null,
   "id": "4f05f4f0-84ff-431d-b0d1-e2d096e91524",
   "metadata": {},
   "outputs": [],
   "source": [
    "def detect_train(input_image_path):\n",
    "    \n",
    "    model = YOLO(\"yolov8n.pt\")\n",
    "    \n",
    "    image = cv2.imread(input_image_path)\n",
    "    if image is None:\n",
    "        print(\"Error: Could not read the image.\")\n",
    "        return\n",
    "\n",
    "    \n",
    "    results = model(input_image_path)\n",
    "\n",
    "    #extract details\n",
    "    boxes = results[0].boxes.xyxy.cpu().numpy()  #bounding box coordinates\n",
    "    class_ids = results[0].boxes.cls.cpu().numpy()  #class IDs\n",
    "    confidences = results[0].boxes.conf.cpu().numpy()  #confidence scores\n",
    "\n",
    "    train_crops = []  #list for store cropped train image/s\n",
    "\n",
    "    #crop train image/s\n",
    "    for i in range(len(class_ids)):\n",
    "        if class_ids[i] == 6 and confidences[i] >= 0.5:\n",
    "            x1, y1, x2, y2 = map(int, boxes[i])  #convert to integers\n",
    "            cropped_train = image[y1:y2, x1:x2]  #crop train region\n",
    "            train_crops.append(cropped_train)\n",
    "            \n",
    "    if not train_crops:\n",
    "        print(\"No trains detected in the image.\")\n",
    "    else:\n",
    "        #remove below for loop and add implemented human detection part\n",
    "        for i, crop in enumerate(train_crops):\n",
    "            plt.figure(figsize=(5, 5))\n",
    "            plt.imshow(cv2.cvtColor(crop, cv2.COLOR_BGR2RGB))\n",
    "            count = detect_humans(crop,model)\n",
    "            plt.axis('off')\n",
    "            plt.title(f\"Train {i+1} Confidence: {confidences[i]:.4f} human count: {count}\")\n",
    "            plt.show()\n",
    "            \n"
   ]
  },
  {
   "cell_type": "code",
   "execution_count": null,
   "id": "7b9b2f91-4eea-4c4b-8151-8d5bd4fb2bc7",
   "metadata": {},
   "outputs": [],
   "source": [
    "for root,dir,files in os.walk(\"input_image\"):\n",
    "    for each in files:\n",
    "        image_path = os.path.join(root,each) \n",
    "        detect_train(image_path)\n"
   ]
  },
  {
   "cell_type": "markdown",
   "id": "59d05c81",
   "metadata": {},
   "source": [
    "Functions to detect humans"
   ]
  },
  {
   "cell_type": "code",
   "execution_count": 20,
   "id": "1bd5597a",
   "metadata": {},
   "outputs": [
    {
     "name": "stdout",
     "output_type": "stream",
     "text": [
      "d\n",
      "Ultralytics Solutions:  {'region': None, 'show_in': True, 'show_out': True, 'colormap': None, 'up_angle': 145.0, 'down_angle': 90, 'kpts': [6, 8, 10], 'analytics_type': 'line', 'json_file': None, 'records': 5, 'model': 'yolov8n.pt', 'classes': [0]}\n",
      "\n",
      "0: 384x640 4 persons, 980.6ms\n",
      "Speed: 4.2ms preprocess, 980.6ms inference, 6.8ms postprocess per image at shape (1, 3, 384, 640)\n"
     ]
    },
    {
     "ename": "TypeError",
     "evalue": "'SolutionResults' object is not subscriptable",
     "output_type": "error",
     "traceback": [
      "\u001b[1;31m---------------------------------------------------------------------------\u001b[0m",
      "\u001b[1;31mTypeError\u001b[0m                                 Traceback (most recent call last)",
      "Cell \u001b[1;32mIn[20], line 2\u001b[0m\n\u001b[0;32m      1\u001b[0m \u001b[38;5;28mprint\u001b[39m(\u001b[38;5;124m\"\u001b[39m\u001b[38;5;124md\u001b[39m\u001b[38;5;124m\"\u001b[39m)\n\u001b[1;32m----> 2\u001b[0m \u001b[43mdetect_humans\u001b[49m\u001b[43m(\u001b[49m\u001b[38;5;124;43m\"\u001b[39;49m\u001b[38;5;124;43minput_image\u001b[39;49m\u001b[38;5;130;43;01m\\\\\u001b[39;49;00m\u001b[38;5;124;43mtest2.jpg\u001b[39;49m\u001b[38;5;124;43m\"\u001b[39;49m\u001b[43m)\u001b[49m\n",
      "Cell \u001b[1;32mIn[19], line 6\u001b[0m, in \u001b[0;36mdetect_humans\u001b[1;34m(image)\u001b[0m\n\u001b[0;32m      4\u001b[0m counter \u001b[38;5;241m=\u001b[39m solutions\u001b[38;5;241m.\u001b[39mObjectCounter(model \u001b[38;5;241m=\u001b[39m\u001b[38;5;124m\"\u001b[39m\u001b[38;5;124myolov8n.pt\u001b[39m\u001b[38;5;124m\"\u001b[39m,classes\u001b[38;5;241m=\u001b[39m[\u001b[38;5;241m0\u001b[39m])\n\u001b[0;32m      5\u001b[0m count \u001b[38;5;241m=\u001b[39m counter(img)\n\u001b[1;32m----> 6\u001b[0m human_count \u001b[38;5;241m=\u001b[39m \u001b[38;5;28msum\u001b[39m(\u001b[38;5;241m1\u001b[39m \u001b[38;5;28;01mfor\u001b[39;00m r \u001b[38;5;129;01min\u001b[39;00m \u001b[43mcount\u001b[49m\u001b[43m[\u001b[49m\u001b[38;5;241;43m0\u001b[39;49m\u001b[43m]\u001b[49m\u001b[38;5;241m.\u001b[39mboxes\u001b[38;5;241m.\u001b[39mcls \u001b[38;5;28;01mif\u001b[39;00m \u001b[38;5;28mint\u001b[39m(r) \u001b[38;5;241m==\u001b[39m \u001b[38;5;241m0\u001b[39m)\n\u001b[0;32m      7\u001b[0m \u001b[38;5;28mprint\u001b[39m(human_count)\n",
      "\u001b[1;31mTypeError\u001b[0m: 'SolutionResults' object is not subscriptable"
     ]
    }
   ],
   "source": [
    "print(\"d\")\n",
    "detect_humans(\"input_image\\\\test2.jpg\")"
   ]
  }
 ],
 "metadata": {
  "kernelspec": {
   "display_name": "Python 3",
   "language": "python",
   "name": "python3"
  },
  "language_info": {
   "codemirror_mode": {
    "name": "ipython",
    "version": 3
   },
   "file_extension": ".py",
   "mimetype": "text/x-python",
   "name": "python",
   "nbconvert_exporter": "python",
   "pygments_lexer": "ipython3",
   "version": "3.10.6"
  }
 },
 "nbformat": 4,
 "nbformat_minor": 5
}
