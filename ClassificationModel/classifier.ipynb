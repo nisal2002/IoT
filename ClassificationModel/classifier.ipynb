{
 "cells": [
  {
   "cell_type": "code",
   "execution_count": 7,
   "id": "841cd018",
   "metadata": {},
   "outputs": [],
   "source": [
    "import tensorflow as tf\n",
    "import numpy as np\n",
    "from PIL import Image\n",
    "import os"
   ]
  },
  {
   "cell_type": "code",
   "execution_count": 8,
   "id": "64586839",
   "metadata": {},
   "outputs": [],
   "source": [
    "# Load the TFLite model\n",
    "interpreter = tf.lite.Interpreter(model_path=r\"C:\\Users\\nisal\\Downloads\\IoT\\ClassificationModel\\train_classifier_model.tflite\")\n",
    "interpreter.allocate_tensors()"
   ]
  },
  {
   "cell_type": "code",
   "execution_count": 9,
   "id": "2f47fd1a",
   "metadata": {},
   "outputs": [],
   "source": [
    "# Get input & output details\n",
    "input_details = interpreter.get_input_details()\n",
    "output_details = interpreter.get_output_details()"
   ]
  },
  {
   "cell_type": "code",
   "execution_count": 10,
   "id": "ad40b88b",
   "metadata": {},
   "outputs": [],
   "source": [
    "def preprocess_image(image_path):\n",
    "    img = Image.open(image_path).convert(\"RGB\")\n",
    "    img = img.resize((96, 96))\n",
    "    img = np.array(img)\n",
    "\n",
    "    # Check if model expects quantized input (uint8) or float32\n",
    "    if input_details[0]['dtype'] == np.uint8:\n",
    "        input_scale, input_zero_point = input_details[0]['quantization']\n",
    "        img = img / 255.0  # normalize\n",
    "        img = img / input_scale + input_zero_point\n",
    "        img = np.clip(img, 0, 255).astype(np.uint8)\n",
    "    else:\n",
    "        img = img.astype(np.float32) / 255.0\n",
    "\n",
    "    return np.expand_dims(img, axis=0)  # add batch dimension"
   ]
  },
  {
   "cell_type": "code",
   "execution_count": 11,
   "id": "5e3de193",
   "metadata": {},
   "outputs": [],
   "source": [
    "def classify_image(image_path):\n",
    "    input_data = preprocess_image(image_path)\n",
    "    interpreter.set_tensor(input_details[0]['index'], input_data)\n",
    "    interpreter.invoke()\n",
    "\n",
    "    output_data = interpreter.get_tensor(output_details[0]['index'])\n",
    "    prediction = output_data[0][0]\n",
    "\n",
    "    if output_details[0]['dtype'] == np.uint8:\n",
    "        output_scale, output_zero_point = output_details[0]['quantization']\n",
    "        prediction = (prediction - output_zero_point) * output_scale\n",
    "\n",
    "    print(f\"Prediction: {prediction:.4f} → {'Train' if prediction > 0.5 else 'Not a Train'}\")"
   ]
  },
  {
   "cell_type": "code",
   "execution_count": 12,
   "id": "83a51529",
   "metadata": {},
   "outputs": [
    {
     "name": "stdout",
     "output_type": "stream",
     "text": [
      "\n",
      "Image: test1.jpg\n",
      "Prediction: 0.3398 → Not a Train\n",
      "\n",
      "Image: test2.jpg\n",
      "Prediction: 0.9570 → Train\n",
      "\n",
      "Image: test3.jpg\n",
      "Prediction: 0.7148 → Train\n",
      "\n",
      "Image: test4.jpg\n",
      "Prediction: 0.8594 → Train\n",
      "\n",
      "Image: test5.jpg\n",
      "Prediction: 0.8984 → Train\n",
      "\n",
      "Image: test6.jpg\n",
      "Prediction: 0.9219 → Train\n",
      "\n",
      "Image: train1.jpg\n",
      "Prediction: 0.3750 → Not a Train\n"
     ]
    }
   ],
   "source": [
    "test_folder = r\"C:\\Users\\nisal\\Downloads\\IoT\\input_data\"\n",
    "for fname in os.listdir(test_folder):\n",
    "    if fname.endswith(\".jpg\") or fname.endswith(\".png\"):\n",
    "        print(f\"\\nImage: {fname}\")\n",
    "        classify_image(os.path.join(test_folder, fname))"
   ]
  }
 ],
 "metadata": {
  "kernelspec": {
   "display_name": "Python 3",
   "language": "python",
   "name": "python3"
  },
  "language_info": {
   "codemirror_mode": {
    "name": "ipython",
    "version": 3
   },
   "file_extension": ".py",
   "mimetype": "text/x-python",
   "name": "python",
   "nbconvert_exporter": "python",
   "pygments_lexer": "ipython3",
   "version": "3.8.10"
  }
 },
 "nbformat": 4,
 "nbformat_minor": 5
}
