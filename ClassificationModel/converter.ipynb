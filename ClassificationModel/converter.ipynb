{
 "cells": [
  {
   "cell_type": "markdown",
   "id": "e09992e7",
   "metadata": {},
   "source": [
    "# Step 1: Convert to TensorFlow Lite Model"
   ]
  },
  {
   "cell_type": "code",
   "execution_count": 10,
   "id": "37054d11",
   "metadata": {},
   "outputs": [],
   "source": [
    "import tensorflow as tf"
   ]
  },
  {
   "cell_type": "code",
   "execution_count": 11,
   "id": "30ba6801",
   "metadata": {},
   "outputs": [],
   "source": [
    "# Image parameters (match training)\n",
    "IMG_SIZE = (96, 96)\n",
    "BATCH_SIZE = 32"
   ]
  },
  {
   "cell_type": "code",
   "execution_count": 12,
   "id": "9e7ab694",
   "metadata": {},
   "outputs": [
    {
     "name": "stdout",
     "output_type": "stream",
     "text": [
      "Found 775 files belonging to 2 classes.\n"
     ]
    }
   ],
   "source": [
    "# Load a small validation set for quantization calibration\n",
    "val_ds = tf.keras.preprocessing.image_dataset_from_directory(\n",
    "    r\"C:\\Users\\nisal\\Downloads\\IoT\\ClassificationModel\\dataset\\val\", \n",
    "    image_size=IMG_SIZE,\n",
    "    batch_size=BATCH_SIZE,\n",
    "    label_mode=\"binary\",\n",
    "    shuffle=False\n",
    ")"
   ]
  },
  {
   "cell_type": "code",
   "execution_count": 13,
   "id": "3153cece",
   "metadata": {},
   "outputs": [],
   "source": [
    "# Normalize like during training\n",
    "normalization_layer = tf.keras.layers.Rescaling(1./255)\n",
    "val_ds = val_ds.map(lambda x, y: (normalization_layer(x), y))"
   ]
  },
  {
   "cell_type": "code",
   "execution_count": 14,
   "id": "aae9a0d0",
   "metadata": {},
   "outputs": [],
   "source": [
    "# Load the saved model (SavedModel format)\n",
    "model = tf.keras.models.load_model(r\"C:\\Users\\nisal\\Downloads\\IoT\\ClassificationModel\\train_classifier_model\")"
   ]
  },
  {
   "cell_type": "code",
   "execution_count": 15,
   "id": "84160a92",
   "metadata": {},
   "outputs": [],
   "source": [
    "# Create converter\n",
    "converter = tf.lite.TFLiteConverter.from_keras_model(model)\n",
    "\n",
    "# Quantization (Post-training integer quantization)\n",
    "converter.optimizations = [tf.lite.Optimize.DEFAULT]\n",
    "\n",
    "# If you want full integer quantization, you need a representative dataset\n",
    "# We'll define a dummy function here as an example:\n",
    "def representative_data_gen():\n",
    "    for images, _ in val_ds.take(100):  # Use a small batch from validation set\n",
    "        yield [images]\n",
    "\n",
    "converter.representative_dataset = representative_data_gen\n",
    "converter.target_spec.supported_ops = [tf.lite.OpsSet.TFLITE_BUILTINS_INT8]\n",
    "converter.inference_input_type = tf.uint8\n",
    "converter.inference_output_type = tf.uint8"
   ]
  },
  {
   "cell_type": "code",
   "execution_count": 16,
   "id": "25cc6c59",
   "metadata": {},
   "outputs": [
    {
     "name": "stdout",
     "output_type": "stream",
     "text": [
      "INFO:tensorflow:Assets written to: C:\\Users\\nisal\\AppData\\Local\\Temp\\tmpc11ew6uu\\assets\n"
     ]
    },
    {
     "name": "stderr",
     "output_type": "stream",
     "text": [
      "INFO:tensorflow:Assets written to: C:\\Users\\nisal\\AppData\\Local\\Temp\\tmpc11ew6uu\\assets\n",
      "d:\\Programs\\Python\\Python38\\lib\\site-packages\\tensorflow\\lite\\python\\convert.py:887: UserWarning: Statistics for quantized inputs were expected, but not specified; continuing anyway.\n",
      "  warnings.warn(\n"
     ]
    }
   ],
   "source": [
    "# Convert the model\n",
    "tflite_model = converter.convert()"
   ]
  },
  {
   "cell_type": "code",
   "execution_count": 17,
   "id": "1f00b5c5",
   "metadata": {},
   "outputs": [
    {
     "name": "stdout",
     "output_type": "stream",
     "text": [
      "TFLite model saved!\n"
     ]
    }
   ],
   "source": [
    "# Save it\n",
    "with open(\"train_classifier_model.tflite\", \"wb\") as f:\n",
    "    f.write(tflite_model)\n",
    "\n",
    "print(\"TFLite model saved!\")"
   ]
  },
  {
   "cell_type": "markdown",
   "id": "dc6c742f",
   "metadata": {},
   "source": [
    "# Step 2: Convert .tflite to .h Header File - Using Python (cross-platform)"
   ]
  },
  {
   "cell_type": "code",
   "execution_count": 18,
   "id": "784fefd2",
   "metadata": {},
   "outputs": [],
   "source": [
    "def convert_to_header(tflite_model_path, header_path, variable_name=\"train_classifier_model\"):\n",
    "    with open(tflite_model_path, \"rb\") as f:\n",
    "        data = f.read()\n",
    "\n",
    "    with open(header_path, \"w\") as f:\n",
    "        f.write(f\"const unsigned char {variable_name}[] = {{\\n\")\n",
    "        for i, byte in enumerate(data):\n",
    "            if i % 12 == 0:\n",
    "                f.write(\"\\n \")\n",
    "            f.write(f\"0x{byte:02x}, \")\n",
    "        f.write(f\"\\n}};\\n\")\n",
    "        f.write(f\"const unsigned int {variable_name}_len = {len(data)};\\n\")\n",
    "\n",
    "convert_to_header(\"train_classifier_model.tflite\", \"train_classifier_model.h\")\n"
   ]
  }
 ],
 "metadata": {
  "kernelspec": {
   "display_name": "Python 3",
   "language": "python",
   "name": "python3"
  },
  "language_info": {
   "codemirror_mode": {
    "name": "ipython",
    "version": 3
   },
   "file_extension": ".py",
   "mimetype": "text/x-python",
   "name": "python",
   "nbconvert_exporter": "python",
   "pygments_lexer": "ipython3",
   "version": "3.8.10"
  }
 },
 "nbformat": 4,
 "nbformat_minor": 5
}
