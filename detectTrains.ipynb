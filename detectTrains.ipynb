{
 "cells": [
  {
   "cell_type": "code",
   "execution_count": null,
   "id": "f0b60445-0fbe-44ea-ad1d-a313dfccb337",
   "metadata": {},
   "outputs": [],
   "source": [
    "!pip install ultralytics"
   ]
  },
  {
   "cell_type": "code",
   "execution_count": null,
   "id": "c21621a7-a4dc-4530-b5fb-2f98a0aa6bd3",
   "metadata": {},
   "outputs": [],
   "source": [
    "from ultralytics import YOLO\n",
    "import cv2\n",
    "import os"
   ]
  },
  {
   "cell_type": "markdown",
   "id": "12dadd19-b6b2-4d6a-af4e-ae43eca6efd0",
   "metadata": {},
   "source": [
    "# Step 1.1 - Auto-label trains using YOLOv8"
   ]
  },
  {
   "cell_type": "code",
   "execution_count": null,
   "id": "d7856112-7249-49e0-94b7-61faa0664ed1",
   "metadata": {},
   "outputs": [],
   "source": [
    "# Load a pre-trained YOLOv8 model\n",
    "model = YOLO(\"yolov8n.pt\")  # Using the Nano version for speed"
   ]
  },
  {
   "cell_type": "code",
   "execution_count": null,
   "id": "8c6474f0-87e1-4e87-9f38-820ff1fd1665",
   "metadata": {},
   "outputs": [],
   "source": [
    "# Define input and output paths\n",
    "image_folder = \"C:\\Users\\nisal\\Downloads\\IoT\\datasets\\1\"  \n",
    "output_label_folder = \"train_labels\""
   ]
  },
  {
   "cell_type": "code",
   "execution_count": null,
   "id": "48f5bb88-c2da-4b1c-8af4-6d9b4d1cebbb",
   "metadata": {},
   "outputs": [],
   "source": [
    "# Create output directory if it doesn't exist\n",
    "os.makedirs(output_label_folder, exist_ok=True)"
   ]
  },
  {
   "cell_type": "markdown",
   "id": "1c8e266e-66be-4cb3-95a6-2b92319792f2",
   "metadata": {},
   "source": [
    "Runs YOLOv8’s pre-trained model on dataset. \n",
    "Extracts \"train\" bounding boxes. \n",
    "Saves them in YOLO format (class x_center y_center width height)."
   ]
  },
  {
   "cell_type": "code",
   "execution_count": null,
   "id": "4cfa9f41-875e-4c6f-a947-92bdb9504f4f",
   "metadata": {},
   "outputs": [],
   "source": [
    "# Process images\n",
    "for image_name in os.listdir(image_folder):\n",
    "    image_path = os.path.join(image_folder, image_name)\n",
    "    \n",
    "    # Read the image\n",
    "    img = cv2.imread(image_path)\n",
    "    \n",
    "    # Run YOLOv8 on the image\n",
    "    results = model(image_path)\n",
    "    \n",
    "    # Open a label file for the current image\n",
    "    label_filename = os.path.join(output_label_folder, image_name.replace(\".jpg\", \".txt\"))\n",
    "    \n",
    "    with open(label_filename, \"w\") as f:\n",
    "        for r in results:\n",
    "            for box in r.boxes:\n",
    "                cls = int(box.cls)  # Class ID\n",
    "                if cls == 7:  # Class 7 = \"train\" in COCO dataset\n",
    "                    x, y, w, h = box.xywhn[0]  # Normalized (x, y, width, height)\n",
    "                    f.write(f\"{cls} {x} {y} {w} {h}\\n\")"
   ]
  },
  {
   "cell_type": "markdown",
   "id": "637159bf-f68b-4634-81da-bd66a3eb13e9",
   "metadata": {},
   "source": [
    "# Step 1.2 - Prepare YOLOv8 Dataset Structure"
   ]
  },
  {
   "cell_type": "code",
   "execution_count": null,
   "id": "91c6b65c-33ad-487c-a4b9-a3d8a1ac7be4",
   "metadata": {},
   "outputs": [],
   "source": []
  }
 ],
 "metadata": {
  "kernelspec": {
   "display_name": "Python 3 (ipykernel)",
   "language": "python",
   "name": "python3"
  },
  "language_info": {
   "codemirror_mode": {
    "name": "ipython",
    "version": 3
   },
   "file_extension": ".py",
   "mimetype": "text/x-python",
   "name": "python",
   "nbconvert_exporter": "python",
   "pygments_lexer": "ipython3",
   "version": "3.8.19"
  }
 },
 "nbformat": 4,
 "nbformat_minor": 5
}
